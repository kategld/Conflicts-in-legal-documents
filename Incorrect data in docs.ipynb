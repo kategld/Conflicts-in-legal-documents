{
 "cells": [
  {
   "cell_type": "code",
   "execution_count": 46,
   "id": "88d41297",
   "metadata": {
    "ExecuteTime": {
     "end_time": "2022-07-27T15:08:57.198130Z",
     "start_time": "2022-07-27T15:08:52.111727Z"
    }
   },
   "outputs": [
    {
     "name": "stderr",
     "output_type": "stream",
     "text": [
      "[nltk_data] Downloading package stopwords to\n",
      "[nltk_data]     C:\\Users\\User\\AppData\\Roaming\\nltk_data...\n",
      "[nltk_data]   Package stopwords is already up-to-date!\n",
      "[nltk_data] Downloading package punkt to\n",
      "[nltk_data]     C:\\Users\\User\\AppData\\Roaming\\nltk_data...\n",
      "[nltk_data]   Package punkt is already up-to-date!\n",
      "[nltk_data] Downloading package wordnet to\n",
      "[nltk_data]     C:\\Users\\User\\AppData\\Roaming\\nltk_data...\n",
      "[nltk_data]   Package wordnet is already up-to-date!\n"
     ]
    },
    {
     "data": {
      "application/vnd.jupyter.widget-view+json": {
       "model_id": "f5b2c093739742ab881aa97d4fe2f363",
       "version_major": 2,
       "version_minor": 0
      },
      "text/plain": [
       "Downloading https://raw.githubusercontent.com/stanfordnlp/stanza-resources/main/resources_1.3.0.json:   0%|   …"
      ]
     },
     "metadata": {},
     "output_type": "display_data"
    },
    {
     "name": "stderr",
     "output_type": "stream",
     "text": [
      "2022-07-27 18:08:52 INFO: Downloading default packages for language: ru (Russian)...\n",
      "2022-07-27 18:08:53 INFO: File exists: C:\\Users\\User\\stanza_resources\\ru\\default.zip.\n",
      "2022-07-27 18:08:57 INFO: Finished downloading models and saved to C:\\Users\\User\\stanza_resources.\n"
     ]
    }
   ],
   "source": [
    "import warnings\n",
    "warnings.filterwarnings('ignore')\n",
    "import stanza\n",
    "import re\n",
    "import time\n",
    "import string\n",
    "import requests\n",
    "from bs4 import BeautifulSoup\n",
    "from geopy.geocoders import Nominatim\n",
    "from selenium import webdriver\n",
    "from selenium.webdriver.common.by import By\n",
    "from selenium.webdriver.support.ui import WebDriverWait\n",
    "from selenium.webdriver.support import expected_conditions as EC\n",
    "from selenium.webdriver.common.keys import Keys\n",
    "from webdriver_manager.chrome import ChromeDriverManager\n",
    "from sklearn.feature_extraction.text import TfidfVectorizer\n",
    "import nltk\n",
    "from nltk.stem import WordNetLemmatizer\n",
    "from nltk.corpus import stopwords \n",
    "import pymorphy2\n",
    "morph = pymorphy2.MorphAnalyzer()\n",
    "nltk.download(\"stopwords\")\n",
    "nltk.download('punkt') \n",
    "nltk.download('wordnet')\n",
    "geolocator = Nominatim(user_agent=\"my_app\")\n",
    "stanza.download('ru')"
   ]
  },
  {
   "cell_type": "code",
   "execution_count": 34,
   "id": "74b8614f",
   "metadata": {
    "ExecuteTime": {
     "end_time": "2022-07-27T15:05:49.964881Z",
     "start_time": "2022-07-27T15:05:49.952798Z"
    }
   },
   "outputs": [],
   "source": [
    "txt=\"\"\"В соответствии с постановлением Правительства Москвы от 16 ноября 2010 г. № 1019-ПП «О создании Градостроительно-земельной комиссии города Москвы», решением Градостроительно-земельной комиссии города Москвы (протокол от 6 февраля 2020 г. № 4) Правительство Москвы постановляет:\n",
    "1. Внести изменения в постановление Правительства Москвы от 16 марта 2010 г. № 212-ПП «О дальнейшей реализации инвестиционного проекта по адресу: ул. Остоженка, д. 9/14» (в редакции постановлений Правительства Москвы от 23 августа 2011 г. № 380-ПП, от 28 февраля 2012 г. № 75-ПП, от 13 июня 2013 г. № 385-ПП, от 17 марта 2015 г. № 120-ПП, от 1 марта 2016 г. № 75-ПП, от 17 января 2017 г. № 6-ПП, от 17 апреля 2018 г. № 332-ПП):\n",
    "1.1.  В пункте 1 постановления слова «до 17 августа 2019 г.» заменить словами «до 17 февраля 2022».\n",
    "1.2. Дополнить постановление пунктом 1(1) в следующей редакции:\n",
    "«1(1). Определить следующий порядок взаиморасчетов между ООО  «ИДИЛЬ ДЕВЕЛОПМЕНТ» и городом Москвой в части замены права требования на долю города в объекте инвестиционной деятельности по адресу: ул. Остоженка, д 9/14 на денежный эквивалент согласно Отчету об оценке от 24 декабря 2019 г. № И28-19.\n",
    "1(1)1. ООО «ИДИЛЬ ДЕВЕЛОПМЕНТ» передает в счет выкупа права требования на долю города в собственность города Москвы в лице Департамента городского имущества города Москвы жилые помещения (квартиры) в срок до 24 августа 2020 г.\n",
    "1(1)2. В случае невыполнения ООО «ИДИЛЬ ДЕВЕЛОПМЕНТ» в срок (п. 1(1)1 настоящего постановления) обязательства по передаче жилой площади Инвестор уплачивает в бюджет города Москвы денежные средства (п. 1(1) настоящего постановления) в срок до 31 августа 2020 г.».\n",
    "1.3. В пункте 7 постановления слова «министра Правительства Москвы, руководителя Департамента экономической политики и развития города Москвы Ефимова В.В.» заменить словами «руководителя Департамента инвестиционной и промышленной политики города Москвы Прохорова А.В.».\n",
    "2. Контроль за выполнением настоящего постановления возложить на руководителя Департамента инвестиционной и промышленной политики города Москвы Прохорова А.В.\n",
    "\"\"\""
   ]
  },
  {
   "cell_type": "code",
   "execution_count": 35,
   "id": "c2f17613",
   "metadata": {
    "ExecuteTime": {
     "end_time": "2022-07-27T15:05:51.015221Z",
     "start_time": "2022-07-27T15:05:50.200376Z"
    }
   },
   "outputs": [],
   "source": [
    "from natasha import (\n",
    "    Segmenter,\n",
    "    MorphVocab,\n",
    "    NewsEmbedding,\n",
    "    NewsMorphTagger,\n",
    "    NewsSyntaxParser,\n",
    "    NewsNERTagger,\n",
    "    PER,\n",
    "    NamesExtractor,\n",
    "    DatesExtractor,\n",
    "    AddrExtractor,\n",
    "    Doc\n",
    ")\n",
    "\n",
    "segmenter = Segmenter()\n",
    "morph_vocab = MorphVocab()\n",
    "emb = NewsEmbedding()\n",
    "morph_tagger = NewsMorphTagger(emb)\n",
    "syntax_parser = NewsSyntaxParser(emb)\n",
    "ner_tagger = NewsNERTagger(emb)\n",
    "names_extractor = NamesExtractor(morph_vocab)\n",
    "dates_extractor = DatesExtractor(morph_vocab)"
   ]
  },
  {
   "cell_type": "markdown",
   "id": "7ecd6f60",
   "metadata": {},
   "source": [
    "# Find docs"
   ]
  },
  {
   "cell_type": "code",
   "execution_count": 36,
   "id": "d0ac8752",
   "metadata": {
    "ExecuteTime": {
     "end_time": "2022-07-27T15:05:51.171845Z",
     "start_time": "2022-07-27T15:05:51.154765Z"
    }
   },
   "outputs": [],
   "source": [
    "def find_date(sent_text,start_text):\n",
    "    matches = dates_extractor(sent_text)\n",
    "    matches=list(matches)\n",
    "    dates_pos=[(i.start+start_text,i.stop+start_text) for i in matches]\n",
    "    dates=[i.fact.as_json for i in matches]\n",
    "    dates=[f\"{f.get('day')}.{f.get('month')}.{f.get('year')}\" for f in dates]\n",
    "    dates=dict(zip(dates_pos,dates))\n",
    "    return dates"
   ]
  },
  {
   "cell_type": "code",
   "execution_count": 37,
   "id": "a8307e09",
   "metadata": {
    "ExecuteTime": {
     "end_time": "2022-07-27T15:05:51.449592Z",
     "start_time": "2022-07-27T15:05:51.430960Z"
    }
   },
   "outputs": [],
   "source": [
    "def find_quotes_text(sent_text,start_text):\n",
    "    pairs={\"'\":\"'\",\n",
    "      '\"':'\"',\n",
    "      \"<\":\">\",\n",
    "      \"«\":\"»\"}\n",
    "    q_pos=[]\n",
    "    for pos,char in enumerate(sent_text):\n",
    "        if((char==sent_text[pos]) and (char in list(pairs.keys()))):\n",
    "            start=pos\n",
    "            sent_text=sent_text.replace(char,\"(\",1)\n",
    "            end=sent_text.find(pairs[char])\n",
    "            sent_text=sent_text.replace(pairs[char],\")\",1)\n",
    "            q_pos.append((start,end))\n",
    "        #print(start,end)\n",
    "    q_pos_corr=[]\n",
    "    q_pos_corr.append(q_pos[0])\n",
    "    for q in q_pos[1:]:\n",
    "        if (q[0]>q_pos_corr[-1][1]):\n",
    "            q_pos_corr.append(q)\n",
    "    q_pos_corr=[(q[0]+start_text,q[1]+start_text) for q in q_pos_corr] \n",
    "    return q_pos_corr"
   ]
  },
  {
   "cell_type": "code",
   "execution_count": 38,
   "id": "027e3cd3",
   "metadata": {
    "ExecuteTime": {
     "end_time": "2022-07-27T15:05:52.029416Z",
     "start_time": "2022-07-27T15:05:52.022417Z"
    }
   },
   "outputs": [],
   "source": [
    "def find_near(start,stop,pos_list):\n",
    "    pos_list=[(i[0],i[1]) for i in pos_list if (i[1]<start)]\n",
    "    pos_min=[start-i[1] for i in pos_list]\n",
    "    pos_min=pos_list[pos_min.index(min(pos_min))] \n",
    "    return pos_min"
   ]
  },
  {
   "cell_type": "code",
   "execution_count": 39,
   "id": "0ca21709",
   "metadata": {
    "ExecuteTime": {
     "end_time": "2022-07-27T15:05:52.294427Z",
     "start_time": "2022-07-27T15:05:52.279352Z"
    }
   },
   "outputs": [],
   "source": [
    "def find_docs(doc):\n",
    "    nps_types=[\"конституция\",\"закон\",\"указ\",\"постановление\",\"акт\"]\n",
    "    doc_names={}\n",
    "    for sent in doc.sents:\n",
    "        key_words={}\n",
    "        for token in sent.tokens:\n",
    "            token.lemmatize(morph_vocab)\n",
    "            #встречаются ключевые слова\n",
    "            if (token.lemma in nps_types):\n",
    "                key_words[(token.start,token.stop)]=token.lemma\n",
    "        try:  \n",
    "            names=find_quotes_text(sent.text,sent.start)\n",
    "            dates=find_date(sent.text,sent.start)\n",
    "            numbers=[pos for pos,char in enumerate(sent.text) if ((char =='№') or (char ==\"#\"))]\n",
    "            numbers=[(number,number+1+len(sent.text[number:].split(\" \")[1])) for number in numbers]\n",
    "            numbers=[(number[0]+sent.start,number[1]+sent.start) for number in numbers]\n",
    "            for i in names:\n",
    "                start=i[0]\n",
    "                stop=i[1]\n",
    "                doc_text=txt[start:stop+1]\n",
    "                doc_number=find_near(start,stop,numbers)\n",
    "                doc_number=txt[doc_number[0]:doc_number[1]]\n",
    "                doc_date=find_near(start,stop,dates.keys())\n",
    "                doc_date=dates[doc_date]\n",
    "                doc_key=find_near(start,stop,key_words.keys())\n",
    "                start=doc_key[0]\n",
    "                doc_key=key_words[doc_key]\n",
    "                #print(doc_key+\" \"+doc_date+\" \"+doc_number+\" \"+doc_text)\n",
    "                doc_names[doc_key+\" \"+doc_date+\" \"+doc_number+\" \"+doc_text]={\n",
    "                    \"doc_key\": doc_key,\n",
    "                    \"doc_date\":doc_date,\n",
    "                    \"doc_num\":doc_number,\n",
    "                    \"doc_text\":doc_text,\n",
    "                    \"doc_pos\":(start,stop+1)\n",
    "                }\n",
    "        except:\n",
    "            pass\n",
    "    return doc_names"
   ]
  },
  {
   "cell_type": "code",
   "execution_count": 40,
   "id": "4c527fc6",
   "metadata": {
    "ExecuteTime": {
     "end_time": "2022-07-27T15:05:52.765848Z",
     "start_time": "2022-07-27T15:05:52.749188Z"
    }
   },
   "outputs": [],
   "source": [
    "def find_consultant(text):\n",
    "    \"\"\"\n",
    "    find doc in consultant database\n",
    "    \"\"\"\n",
    "    browser = webdriver.Chrome(ChromeDriverManager().install())\n",
    "    browser.get('http://www.consultant.ru/')\n",
    "    search = browser.find_element_by_name('q')\n",
    "    search.send_keys(text)\n",
    "    search.send_keys(Keys.RETURN)\n",
    "    #search.click()\n",
    "    time.sleep(3)\n",
    "    html = browser.page_source\n",
    "    soup = BeautifulSoup(html)\n",
    "    elements=soup.findAll(\"a\",class_=\"search-results__link\")\n",
    "    el_set=dict()\n",
    "    i=0\n",
    "    for el in elements:\n",
    "        text=el.find(\"p\",class_=\"search-results__text\").text.replace(\"\\n\",\"\")\n",
    "        text_d=el.find(\"p\",class_=\"search-results__link-inherit\").text.replace(\"\\n\",\"\")\n",
    "        remark= el.find(\"p\",attrs={'class': re.compile('search-results__status*')})\n",
    "        if(remark):\n",
    "            remark=re.sub(' +', ' ',remark.text.replace(\"\\n\",\"\"))\n",
    "        else:\n",
    "            remark=\"\"\n",
    "        el_set[i]={\"text\":text+\" \"+text_d,\"remark\":remark}\n",
    "        i+=1\n",
    "    return el_set"
   ]
  },
  {
   "cell_type": "code",
   "execution_count": 47,
   "id": "3405800b",
   "metadata": {
    "ExecuteTime": {
     "end_time": "2022-07-27T15:09:13.359779Z",
     "start_time": "2022-07-27T15:09:13.350262Z"
    }
   },
   "outputs": [],
   "source": [
    "def docs_seacher(txt):\n",
    "    \"\"\"\n",
    "    get detailed info about all docs in txt\n",
    "    \"\"\"\n",
    "    doc = Doc(txt)\n",
    "    doc.segment(segmenter)\n",
    "    doc.tag_morph(morph_tagger)\n",
    "    doc.parse_syntax(syntax_parser)\n",
    "    doc_names=find_docs(doc)\n",
    "    for name in doc_names:\n",
    "        search_text=doc_names[name][\"doc_pos\"]\n",
    "        search_text=txt[search_text[0]:search_text[1]]\n",
    "        search_text=find_consultant(search_text)\n",
    "        correct=False\n",
    "        for i in search_text:\n",
    "            dates=list(find_date(search_text[i][\"text\"],0).values())\n",
    "            numbers=[pos for pos,char in enumerate(search_text[i][\"text\"]) if (char =='N')]\n",
    "            numbers=[search_text[i][\"text\"][number:number+1+len(search_text[i][\"text\"][number:].split(\" \")[1])] for number in numbers]\n",
    "            numbers=[num.split()[1] for num in numbers ]\n",
    "            if doc_names[name][\"doc_date\"] in dates:\n",
    "                if doc_names[name][\"doc_num\"].split()[1] in numbers:\n",
    "                    correct=True\n",
    "                    doc_names[name][\"correct\"]=correct\n",
    "                    if search_text[i][\"remark\"]:\n",
    "                        status=search_text[i][\"remark\"]\n",
    "                    else:\n",
    "                        status=\"Действует\"\n",
    "                    doc_names[name][\"status\"]=status\n",
    "        if (correct==False):\n",
    "            doc_names[name][\"correct\"]=correct\n",
    "    return doc_names"
   ]
  },
  {
   "cell_type": "code",
   "execution_count": null,
   "id": "a659d212",
   "metadata": {
    "ExecuteTime": {
     "end_time": "2022-07-27T15:09:37.412145Z",
     "start_time": "2022-07-27T15:09:21.129109Z"
    }
   },
   "outputs": [],
   "source": [
    "doc_names=docs_seacher(txt)"
   ]
  },
  {
   "cell_type": "code",
   "execution_count": 49,
   "id": "089a823d",
   "metadata": {
    "ExecuteTime": {
     "end_time": "2022-07-27T15:09:51.091254Z",
     "start_time": "2022-07-27T15:09:51.075232Z"
    }
   },
   "outputs": [
    {
     "data": {
      "text/plain": [
       "{'постановление 16.11.2010 № 1019-П «О создании Градостроительно-земельной комиссии города Москвы»': {'doc_key': 'постановление',\n",
       "  'doc_date': '16.11.2010',\n",
       "  'doc_num': '№ 1019-П',\n",
       "  'doc_text': '«О создании Градостроительно-земельной комиссии города Москвы»',\n",
       "  'doc_pos': (17, 146),\n",
       "  'correct': True,\n",
       "  'status': 'Действует'},\n",
       " 'постановление 16.3.2010 № 212-П «О дальнейшей реализации инвестиционного проекта по адресу: ул. Остоженка, д. 9/14»': {'doc_key': 'постановление',\n",
       "  'doc_date': '16.3.2010',\n",
       "  'doc_num': '№ 212-П',\n",
       "  'doc_text': '«О дальнейшей реализации инвестиционного проекта по адресу: ул. Остоженка, д. 9/14»',\n",
       "  'doc_pos': (300, 447),\n",
       "  'correct': True,\n",
       "  'status': 'Действует'}}"
      ]
     },
     "execution_count": 49,
     "metadata": {},
     "output_type": "execute_result"
    }
   ],
   "source": [
    "doc_names"
   ]
  },
  {
   "cell_type": "markdown",
   "id": "1ec65ed3",
   "metadata": {},
   "source": [
    "# Find addresses"
   ]
  },
  {
   "cell_type": "code",
   "execution_count": 72,
   "id": "a330b283",
   "metadata": {
    "ExecuteTime": {
     "end_time": "2022-07-27T15:15:27.885825Z",
     "start_time": "2022-07-27T15:15:27.873305Z"
    }
   },
   "outputs": [],
   "source": [
    "def find_loc(sent,city_comp):\n",
    "    add=False\n",
    "    one_address=[]\n",
    "    addresses=[]\n",
    "    for word in sent:\n",
    "        word=re.sub(r'[!@\"$;%^:&?*()<>~`|«»#№]', '', word)\n",
    "        word=word.rstrip()\n",
    "        if (add):\n",
    "            if(word!=\"\"):\n",
    "                one_address.append(word)\n",
    "            else:\n",
    "                one_address=[]\n",
    "        if word in city_comp:\n",
    "            add=True\n",
    "        else:\n",
    "            if (len(one_address)>1 and add==False):         \n",
    "                addresses.append(' '.join(one_address))\n",
    "                one_address=[]\n",
    "            add=False\n",
    "    return addresses   \n",
    "def find_loc_txt(txt):\n",
    "    \"\"\"\n",
    "    find any location in txt\n",
    "    \"\"\"\n",
    "    city_comp={'ул.',\"улица\",'стр.',\"строение\",'дом ','д.',\"р-н\",' район','владение','корп',\"корпус\",\"область\",\"обл.\",\n",
    "           \"г.\",\"город \",\"пос.\",\"поселок\",\"пр.\",\"проезд\",\"пер.\",\"переулок\",\"наб.\",\"набережная\",\"пл.\",\"площадь\",\n",
    "           \"б-р\",\"бульвар\",\"линия\",\"ш.\",\"шоссе\"}\n",
    "    doc = Doc(txt)\n",
    "    doc.segment(segmenter)\n",
    "    sents=[d.text for d in doc.sents]\n",
    "    addresses=[]\n",
    "    for sent in sents:\n",
    "        sent=sent.split()\n",
    "        addresses.extend(find_loc(sent,city_comp))\n",
    "    return addresses\n",
    "    "
   ]
  },
  {
   "cell_type": "code",
   "execution_count": 73,
   "id": "068e1ea5",
   "metadata": {
    "ExecuteTime": {
     "end_time": "2022-07-27T15:15:28.586411Z",
     "start_time": "2022-07-27T15:15:28.210981Z"
    }
   },
   "outputs": [],
   "source": [
    "addresses=find_loc_txt(txt)\n",
    "addresses=list(set(addresses))\n",
    "address_check={}#словарь адрес- существует/нет\n",
    "for address in addresses:\n",
    "    \"\"\"\n",
    "    check is address really exist using geopy\n",
    "    \"\"\"\n",
    "    location = geolocator.geocode(address)\n",
    "    if location:\n",
    "        address_check[address]=True\n",
    "    else:\n",
    "        address_check[address]=False"
   ]
  },
  {
   "cell_type": "code",
   "execution_count": 75,
   "id": "a8d60fe8",
   "metadata": {
    "ExecuteTime": {
     "end_time": "2022-07-27T15:15:47.301181Z",
     "start_time": "2022-07-27T15:15:47.288864Z"
    }
   },
   "outputs": [
    {
     "data": {
      "text/plain": [
       "{'Остоженка, 9/14': True}"
      ]
     },
     "execution_count": 75,
     "metadata": {},
     "output_type": "execute_result"
    }
   ],
   "source": [
    "address_check"
   ]
  },
  {
   "cell_type": "markdown",
   "id": "dfffb5bc",
   "metadata": {},
   "source": [
    "# Find organization"
   ]
  },
  {
   "cell_type": "code",
   "execution_count": 195,
   "id": "223d72ce",
   "metadata": {
    "ExecuteTime": {
     "end_time": "2022-07-28T12:39:36.368457Z",
     "start_time": "2022-07-28T12:39:36.355280Z"
    }
   },
   "outputs": [],
   "source": [
    "russian_stopwords = stopwords.words(\"russian\")\n",
    "stemmer = nltk.stem.porter.PorterStemmer()\n",
    "remove_punctuation_map = dict((ord(char), None) for char in string.punctuation)\n",
    "vectorizer = TfidfVectorizer(tokenizer=normalize, stop_words=russian_stopwords)"
   ]
  },
  {
   "cell_type": "code",
   "execution_count": null,
   "id": "484ca384",
   "metadata": {},
   "outputs": [],
   "source": [
    "def stem_tokens(tokens):\n",
    "    return [stemmer.stem(item) for item in tokens]\n",
    "\n",
    "'''remove punctuation, lowercase, stem'''\n",
    "def normalize(text):\n",
    "    return stem_tokens(nltk.word_tokenize(text.lower().translate(remove_punctuation_map))\n",
    "\n",
    "def cosine_sim(text1, text2):\n",
    "    tfidf = vectorizer.fit_transform([text1, text2])\n",
    "    return ((tfidf * tfidf.T).A)[0,1]"
   ]
  },
  {
   "cell_type": "code",
   "execution_count": 117,
   "id": "a4a774ff",
   "metadata": {
    "ExecuteTime": {
     "end_time": "2022-07-28T09:17:24.852748Z",
     "start_time": "2022-07-28T09:17:24.833497Z"
    }
   },
   "outputs": [],
   "source": [
    "def companies_info(names,texts):\n",
    "    companies={}\n",
    "    for i in range(len(names)):\n",
    "        loc=texts[i].split(\", ОГРН\")[0]\n",
    "        loc=loc.lower()\n",
    "        try:\n",
    "           #boss=texts[i].split(\"ДИРЕКТОР\")[1].split(\",\")[0]\n",
    "           boss=texts[i].split(\"КПП:\")[1].split(\": \")[1].split(\",\")[0].split(\"\\n\")[0]\n",
    "        except:\n",
    "            print(texts[i])\n",
    "            boss=False\n",
    "        try:\n",
    "            end_data=texts[i].split(\"Дата прекращения деятельности: \")[1].split(\"\\n\")[0]\n",
    "        except:\n",
    "            end_data=False\n",
    "        companies[names[i].lower()]={\"loc\":loc,\"boss\":boss,\"end_data\":end_data}\n",
    "    return companies\n",
    "def get_info_org(org):\n",
    "    \"\"\"organization information scraping \"\"\"\n",
    "    browser = webdriver.Chrome(ChromeDriverManager().install())\n",
    "    browser.get('https://egrul.nalog.ru/index.html')\n",
    "    search = browser.find_element_by_name('query')\n",
    "    search.send_keys(org)\n",
    "    search.send_keys(Keys.RETURN)\n",
    "    time.sleep(2)\n",
    "    elems=search.find_elements_by_xpath(\"//div[@class='res-row']//div[@class='res-caption']\")\n",
    "    names=[el.text for el in elems if (el.text)]\n",
    "    elems=search.find_elements_by_xpath(\"//div[@class='res-row']//div[@class='res-line']\")\n",
    "    texts=[el.text for el in elems if (el.text)]\n",
    "    browser.quit()\n",
    "    return names,texts"
   ]
  },
  {
   "cell_type": "code",
   "execution_count": 118,
   "id": "e5670c88",
   "metadata": {
    "ExecuteTime": {
     "end_time": "2022-07-28T09:17:25.590951Z",
     "start_time": "2022-07-28T09:17:25.575626Z"
    }
   },
   "outputs": [],
   "source": [
    "def find_around(start,stop,pos_list):\n",
    "    #pos_list=[(i[0],i[1]) for i in pos_list if (i[1]<start)]\n",
    "    pos_min=[min(abs(start-i[1]),abs(stop-i[0])) for i in pos_list]\n",
    "    pos_min=pos_list[pos_min.index(min(pos_min))] \n",
    "    return pos_min"
   ]
  },
  {
   "cell_type": "code",
   "execution_count": null,
   "id": "09ddd400",
   "metadata": {
    "ExecuteTime": {
     "end_time": "2022-07-28T13:01:53.443166Z",
     "start_time": "2022-07-28T13:01:03.935446Z"
    }
   },
   "outputs": [],
   "source": [
    "doc = Doc(txt)\n",
    "doc.segment(segmenter)\n",
    "doc.tag_morph(morph_tagger)\n",
    "doc.parse_syntax(syntax_parser)\n",
    "doc.tag_ner(ner_tagger)\n",
    "locs={}\n",
    "for span in doc.spans:\n",
    "    span.normalize(morph_vocab)\n",
    "    if span.type == \"LOC\":\n",
    "        locs[(span.start,span.stop)]=span.text\n",
    "orgs={}\n",
    "for span in doc.spans:\n",
    "    span.normalize(morph_vocab)\n",
    "    if span.type == \"ORG\":\n",
    "        orgs[span.normal]={\"pos\":(span.start,span.stop),\n",
    "                          \"loc\":locs[find_around(span.start,span.stop,list(locs.keys()))].lower()\n",
    "                          }\n",
    "for org in list(orgs.keys()):\n",
    "    name_org=org.lower().split('«')[-1]\n",
    "    name_org=name_org.split(\"»\")[0]\n",
    "    location=orgs[org][\"loc\"]\n",
    "    location=morph.parse(location)[0].normal_form\n",
    "    names,texts=get_info_org(org)\n",
    "    companies=companies_info(names,texts)\n",
    "    new_companies={}\n",
    "    for comp in companies:\n",
    "        if location in companies[comp]['loc']:\n",
    "            new_companies[comp]=companies[comp]\n",
    "        company={}\n",
    "    for c in new_companies:\n",
    "        if name_org in c:\n",
    "            for k in new_companies[c]:\n",
    "                orgs[org][k]=new_companies[c][k]\n",
    "            break"
   ]
  },
  {
   "cell_type": "code",
   "execution_count": 249,
   "id": "8971bb6d",
   "metadata": {
    "ExecuteTime": {
     "end_time": "2022-07-28T13:03:10.282156Z",
     "start_time": "2022-07-28T13:03:10.276196Z"
    }
   },
   "outputs": [
    {
     "data": {
      "text/plain": [
       "{'Правительство': {'pos': (1705, 1718), 'loc': 'москвы'},\n",
       " 'Градостроительно-земельной комиссия': {'pos': (157, 192), 'loc': 'москвы'},\n",
       " 'ООО  «ИДИЛЬ ДЕВЕЛОПМЕНТ': {'pos': (927, 950),\n",
       "  'loc': '115184, россия, г. москва, вн.тер.г. муниципальный округ замоскворечье, большой овчинниковский пер., д. 16, этаж 5, помещ. 525а',\n",
       "  'boss': 'Качановский Дмитрий Евгеньевич',\n",
       "  'end_data': False},\n",
       " 'ООО «ИДИЛЬ ДЕВЕЛОПМЕНТ': {'pos': (1425, 1447),\n",
       "  'loc': '115184, россия, г. москва, вн.тер.г. муниципальный округ замоскворечье, большой овчинниковский пер., д. 16, этаж 5, помещ. 525а',\n",
       "  'boss': 'Качановский Дмитрий Евгеньевич',\n",
       "  'end_data': False},\n",
       " 'Департамент городского имущества': {'pos': (1292, 1325),\n",
       "  'loc': '123112, город москва, 1-й красногвардейский проезд, дом 21, строение 1',\n",
       "  'boss': 'Дегтярева Ирина Ивановна',\n",
       "  'end_data': False},\n",
       " 'Департамент экономической политики и развития': {'pos': (1740, 1786),\n",
       "  'loc': '125032, город москва, тверская улица, дом 13',\n",
       "  'boss': 'Пуртов Кирилл Сергеевич',\n",
       "  'end_data': False},\n",
       " 'Департамент инвестиционной и промышленной политики': {'pos': (2007, 2058),\n",
       "  'loc': '123112, город москва, 1-й красногвардейский проезд, дом 21, строение 1',\n",
       "  'boss': 'Овчинский Владислав Анатольевич',\n",
       "  'end_data': False}}"
      ]
     },
     "execution_count": 249,
     "metadata": {},
     "output_type": "execute_result"
    }
   ],
   "source": [
    "orgs"
   ]
  }
 ],
 "metadata": {
  "kernelspec": {
   "display_name": "Python 3 (ipykernel)",
   "language": "python",
   "name": "python3"
  },
  "language_info": {
   "codemirror_mode": {
    "name": "ipython",
    "version": 3
   },
   "file_extension": ".py",
   "mimetype": "text/x-python",
   "name": "python",
   "nbconvert_exporter": "python",
   "pygments_lexer": "ipython3",
   "version": "3.9.7"
  },
  "toc": {
   "base_numbering": 1,
   "nav_menu": {},
   "number_sections": true,
   "sideBar": true,
   "skip_h1_title": false,
   "title_cell": "Table of Contents",
   "title_sidebar": "Contents",
   "toc_cell": false,
   "toc_position": {},
   "toc_section_display": true,
   "toc_window_display": true
  }
 },
 "nbformat": 4,
 "nbformat_minor": 5
}
