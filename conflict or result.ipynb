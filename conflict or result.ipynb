{
 "cells": [
  {
   "cell_type": "code",
   "execution_count": null,
   "id": "5a9ebcee",
   "metadata": {
    "ExecuteTime": {
     "end_time": "2022-07-28T13:07:12.926837Z",
     "start_time": "2022-07-28T13:06:56.434827Z"
    }
   },
   "outputs": [],
   "source": [
    "import numpy\n",
    "import itertools\n",
    "import torch\n",
    "from fairseq.data.data_utils import collate_tokens\n",
    "import torch\n",
    "roberta = torch.hub.load('pytorch/fairseq', 'roberta.large.mnli')\n",
    "roberta.eval()"
   ]
  },
  {
   "cell_type": "code",
   "execution_count": 5,
   "id": "ba7c9bec",
   "metadata": {
    "ExecuteTime": {
     "end_time": "2022-07-28T13:11:14.187901Z",
     "start_time": "2022-07-28T13:10:56.652018Z"
    }
   },
   "outputs": [
    {
     "name": "stderr",
     "output_type": "stream",
     "text": [
      "C:\\Users\\User\\Anaconda3\\lib\\site-packages\\scipy\\__init__.py:146: UserWarning: A NumPy version >=1.16.5 and <1.23.0 is required for this version of SciPy (detected version 1.23.0\n",
      "  warnings.warn(f\"A NumPy version >={np_minversion} and <{np_maxversion}\"\n",
      "2022-07-28 16:10:59 | INFO | numexpr.utils | NumExpr defaulting to 8 threads.\n"
     ]
    }
   ],
   "source": [
    "from transformers import AutoTokenizer, AutoModelForMaskedLM\n",
    "\n",
    "tokenizer = AutoTokenizer.from_pretrained('xlm-roberta-large')\n",
    "model = AutoModelForMaskedLM.from_pretrained(\"xlm-roberta-large\")"
   ]
  },
  {
   "cell_type": "code",
   "execution_count": 6,
   "id": "e2879457",
   "metadata": {
    "ExecuteTime": {
     "end_time": "2022-07-28T13:11:14.203788Z",
     "start_time": "2022-07-28T13:11:14.189382Z"
    }
   },
   "outputs": [],
   "source": [
    "txt=\"\"\"Правительство Российской Федерации постановляет:\n",
    "1. Утвердить прилагаемые изменения, которые вносятся в акты Правительства Российской Федерации.\n",
    "2. Реализация полномочий, предусмотренных настоящим постановлением, осуществляется в пределах установленной Правительством Российской Федерации численности работников центрального аппарата и территориальных органов исполнительной власти, а также бюджетных ассигнований, предусмотренных соответствующим федеральным органам исполнительной власти в федеральном бюджете на руководство и управление в сфере установленных функций.\n",
    "\"\"\""
   ]
  },
  {
   "cell_type": "code",
   "execution_count": 13,
   "id": "c3f2a22a",
   "metadata": {
    "ExecuteTime": {
     "end_time": "2022-07-28T13:14:59.701054Z",
     "start_time": "2022-07-28T13:14:56.570984Z"
    }
   },
   "outputs": [
    {
     "name": "stdout",
     "output_type": "stream",
     "text": [
      "******* 3\n",
      "3\n"
     ]
    }
   ],
   "source": [
    "tokens = txt.strip( ).split('\\n')\n",
    "for i in range(len(tokens)):\n",
    "            #limit 200 tokens\n",
    "    tokens[i]=tokens[i][:200]\n",
    "numoftoken = len(tokens)\n",
    "print ('*******',numoftoken)\n",
    "batch_of_pairs= list(itertools.combinations(tokens,2))\n",
    "num_batch_of_pairs=len(batch_of_pairs)\n",
    "print(num_batch_of_pairs)\n",
    "out=''\n",
    "if num_batch_of_pairs == 0:\n",
    "    out = 'no pair to compair'\n",
    "    print(out)\n",
    "device = \"cuda\" if torch.cuda.is_available() else \"cpu\"\n",
    "roberta.to(device)\n",
    "resh=[]\n",
    "for pair in batch_of_pairs:\n",
    "    batch =  collate_tokens([roberta.encode(pair[0], pair[1])], pad_idx=1)\n",
    "    logprobs = roberta.predict('mnli', batch)\n",
    "    resh.append(logprobs.argmin(dim=1).detach().numpy())"
   ]
  },
  {
   "cell_type": "code",
   "execution_count": 15,
   "id": "63ec2a4c",
   "metadata": {
    "ExecuteTime": {
     "end_time": "2022-07-28T13:17:13.631011Z",
     "start_time": "2022-07-28T13:17:13.611514Z"
    }
   },
   "outputs": [
    {
     "name": "stdout",
     "output_type": "stream",
     "text": [
      "Правительство Российской Федерации постановляет:__|1. Утвердить прилагаемые изменения, которые вносят|[0]|\n",
      "|Правительство Российской Федерации постановляет:__|2. Реализация полномочий, предусмотренных настоящи|[0]|\n",
      "|1. Утвердить прилагаемые изменения, которые вносят|2. Реализация полномочий, предусмотренных настоящи|[2]\n"
     ]
    }
   ],
   "source": [
    "\"\"\"\n",
    "    0-conflict\n",
    "    1-no connection\n",
    "    2-result\n",
    "\"\"\"\n",
    "fillchar=\"_\"\n",
    "outp=[]\n",
    "outp1=numpy.array\n",
    "for i in range(int((numoftoken*(numoftoken-1))/2)):\n",
    "    outp.append( '|'+batch_of_pairs[i][0].ljust(50,fillchar)[:50]+'|'+batch_of_pairs[i][1].ljust(50,fillchar)[:50]+'|'+str(resh[i])+'|'+'\\n')\n",
    "    outp1( [batch_of_pairs[i][0].ljust(50,fillchar)[:50],batch_of_pairs[i][1].ljust(50,fillchar)[:50],str(resh[i])])\n",
    "\n",
    "\n",
    "out = ''.join(outp)\n",
    "print(out[1:-2])\n"
   ]
  },
  {
   "cell_type": "code",
   "execution_count": null,
   "id": "b9823e56",
   "metadata": {},
   "outputs": [],
   "source": []
  }
 ],
 "metadata": {
  "kernelspec": {
   "display_name": "Python 3 (ipykernel)",
   "language": "python",
   "name": "python3"
  },
  "language_info": {
   "codemirror_mode": {
    "name": "ipython",
    "version": 3
   },
   "file_extension": ".py",
   "mimetype": "text/x-python",
   "name": "python",
   "nbconvert_exporter": "python",
   "pygments_lexer": "ipython3",
   "version": "3.9.7"
  },
  "toc": {
   "base_numbering": 1,
   "nav_menu": {},
   "number_sections": true,
   "sideBar": true,
   "skip_h1_title": false,
   "title_cell": "Table of Contents",
   "title_sidebar": "Contents",
   "toc_cell": false,
   "toc_position": {},
   "toc_section_display": true,
   "toc_window_display": false
  }
 },
 "nbformat": 4,
 "nbformat_minor": 5
}
